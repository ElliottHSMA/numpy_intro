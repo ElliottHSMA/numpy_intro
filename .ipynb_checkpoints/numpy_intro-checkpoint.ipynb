{
 "cells": [
  {
   "cell_type": "markdown",
   "id": "f9d00824",
   "metadata": {},
   "source": [
    "# Intro to Numpy\n",
    "\n",
    "Try attempting the exercises below to help you build your confidence when working with Numpy Arrays.\n",
    "\n",
    "We may not have covered everything below, so you will have to use your preferred search engine to find the solution(s)!\n",
    "\n",
    "Here's a list of references that might help you with the exercises below:\n",
    "\n",
    "* [Numpy User Guide](https://docs.scipy.org/doc/numpy/user/index.html)\n",
    "* [Numpy Reference](https://docs.scipy.org/doc/numpy/reference/)\n",
    "* [Google Search](https://www.google.com/search?q=how+to+use+numpy)"
   ]
  },
  {
   "cell_type": "markdown",
   "id": "a5b7a0e4",
   "metadata": {},
   "source": [
    "#### First things first... Import Numpy. Given it the alias `np`."
   ]
  },
  {
   "cell_type": "code",
   "execution_count": 1,
   "id": "b8346667",
   "metadata": {},
   "outputs": [],
   "source": [
    "# your code here"
   ]
  },
  {
   "cell_type": "code",
   "execution_count": 2,
   "id": "d4832458",
   "metadata": {},
   "outputs": [],
   "source": [
    "import numpy as np"
   ]
  },
  {
   "cell_type": "markdown",
   "id": "69b97867",
   "metadata": {},
   "source": [
    "#### Print your NumPy version.\n",
    "\n",
    "*Hint:* Google is your friend. [Isn't it?](https://www.google.com/search?q=print+numpy+version&oq=print+numpy+version)"
   ]
  },
  {
   "cell_type": "code",
   "execution_count": 3,
   "id": "1728ced0",
   "metadata": {},
   "outputs": [],
   "source": [
    "# your code here"
   ]
  },
  {
   "cell_type": "code",
   "execution_count": 4,
   "id": "5877ae39",
   "metadata": {},
   "outputs": [
    {
     "name": "stdout",
     "output_type": "stream",
     "text": [
      "1.21.5\n"
     ]
    }
   ],
   "source": [
    "print(np.__version__)"
   ]
  },
  {
   "cell_type": "markdown",
   "id": "b827056c",
   "metadata": {},
   "source": [
    "#### Generate a 2x3x5 3-dimensional array with random values. Assign the array to variable *`a`*.\n",
    "**Challenge**: there are at least three easy ways that use numpy to generate random arrays. How many ways can you find?\n",
    "**Hint**: look for `np.random` and search for functions you want to use.\n",
    "\n",
    "The outcomes should look like:\n",
    "```python\n",
    "array([[[ 0.00453782,  0.47251152,  0.65513617,  0.89370211,  0.91464052],\n",
    "        [ 0.35606786,  0.68149792,  0.37211451,  0.2493357 ,  0.66608051],\n",
    "        [ 0.71459267,  0.68722356,  0.20916865,  0.98338451,  0.28154909]],\n",
    "\n",
    "       [[ 0.83752622,  0.12378486,  0.77380373,  0.43270332,  0.26392168],\n",
    "        [ 0.02528723,  0.5352501 ,  0.35521185,  0.05175587,  0.64898055],\n",
    "        [ 0.52616383,  0.94453068,  0.17055731,  0.15094225,  0.63495276]]])\n",
    "```\n",
    "*The values do not need to be the same. Remember that you are creating random numbers.*"
   ]
  },
  {
   "cell_type": "code",
   "execution_count": 5,
   "id": "5d7287de",
   "metadata": {},
   "outputs": [],
   "source": [
    "# your code here"
   ]
  },
  {
   "cell_type": "code",
   "execution_count": 6,
   "id": "0163b0f7",
   "metadata": {},
   "outputs": [],
   "source": [
    "a = np.random.rand(2,3,5)"
   ]
  },
  {
   "cell_type": "markdown",
   "id": "3277a353",
   "metadata": {},
   "source": [
    "#### Print `a`."
   ]
  },
  {
   "cell_type": "code",
   "execution_count": 7,
   "id": "c184cc4e",
   "metadata": {},
   "outputs": [],
   "source": [
    "# your code here"
   ]
  },
  {
   "cell_type": "code",
   "execution_count": 8,
   "id": "a6c1c360",
   "metadata": {},
   "outputs": [
    {
     "name": "stdout",
     "output_type": "stream",
     "text": [
      "[[[0.57632635 0.82486763 0.4576379  0.97387715 0.72305214]\n",
      "  [0.801026   0.00284065 0.33204367 0.69263527 0.54772114]\n",
      "  [0.05548606 0.16061355 0.1662069  0.57643958 0.69845828]]\n",
      "\n",
      " [[0.07624377 0.59402418 0.65478747 0.26984149 0.78399891]\n",
      "  [0.56554958 0.74635157 0.61498672 0.44657287 0.64099695]\n",
      "  [0.423073   0.78289729 0.45566757 0.70407925 0.79209131]]]\n"
     ]
    }
   ],
   "source": [
    "print(a)"
   ]
  },
  {
   "cell_type": "markdown",
   "id": "6595eb52",
   "metadata": {},
   "source": [
    "#### Create a 5x2x3 3-dimensional array of 1s (i.e., all elements are 1). Assign the array to variable *`b`*.\n",
    "\n",
    "The outcome should look like:\n",
    "```python\n",
    "[[[ 1.  1.  1.]\n",
    "  [ 1.  1.  1.]]\n",
    "\n",
    " [[ 1.  1.  1.]\n",
    "  [ 1.  1.  1.]]\n",
    "\n",
    " [[ 1.  1.  1.]\n",
    "  [ 1.  1.  1.]]\n",
    "\n",
    " [[ 1.  1.  1.]\n",
    "  [ 1.  1.  1.]]\n",
    "\n",
    " [[ 1.  1.  1.]\n",
    "  [ 1.  1.  1.]]]\n",
    "```"
   ]
  },
  {
   "cell_type": "code",
   "execution_count": 9,
   "id": "c36cc422",
   "metadata": {},
   "outputs": [],
   "source": [
    "# your code here"
   ]
  },
  {
   "cell_type": "code",
   "execution_count": 10,
   "id": "bce6bb01",
   "metadata": {},
   "outputs": [],
   "source": [
    "b = np.array( [ [ [1] * 3 ] * 2 ] * 5)"
   ]
  },
  {
   "cell_type": "markdown",
   "id": "45ba58ac",
   "metadata": {},
   "source": [
    "#### Print `b`."
   ]
  },
  {
   "cell_type": "code",
   "execution_count": 11,
   "id": "1efd58b8",
   "metadata": {},
   "outputs": [],
   "source": [
    "# your code here"
   ]
  },
  {
   "cell_type": "code",
   "execution_count": 12,
   "id": "61e52dd0",
   "metadata": {},
   "outputs": [
    {
     "name": "stdout",
     "output_type": "stream",
     "text": [
      "[[[1 1 1]\n",
      "  [1 1 1]]\n",
      "\n",
      " [[1 1 1]\n",
      "  [1 1 1]]\n",
      "\n",
      " [[1 1 1]\n",
      "  [1 1 1]]\n",
      "\n",
      " [[1 1 1]\n",
      "  [1 1 1]]\n",
      "\n",
      " [[1 1 1]\n",
      "  [1 1 1]]]\n"
     ]
    }
   ],
   "source": [
    "print(b)"
   ]
  },
  {
   "cell_type": "markdown",
   "id": "c4c9b04e",
   "metadata": {},
   "source": [
    "#### Do *`a`* and *`b`* have the same size? How do you prove that in Python code?"
   ]
  },
  {
   "cell_type": "code",
   "execution_count": 13,
   "id": "6a0e1196",
   "metadata": {},
   "outputs": [],
   "source": [
    "# your answer and code here"
   ]
  },
  {
   "cell_type": "code",
   "execution_count": 14,
   "id": "de0cdc35",
   "metadata": {},
   "outputs": [
    {
     "data": {
      "text/plain": [
       "(2, 3, 5)"
      ]
     },
     "execution_count": 14,
     "metadata": {},
     "output_type": "execute_result"
    }
   ],
   "source": [
    "a.shape"
   ]
  },
  {
   "cell_type": "code",
   "execution_count": 15,
   "id": "12806927",
   "metadata": {},
   "outputs": [
    {
     "data": {
      "text/plain": [
       "(5, 2, 3)"
      ]
     },
     "execution_count": 15,
     "metadata": {},
     "output_type": "execute_result"
    }
   ],
   "source": [
    "b.shape"
   ]
  },
  {
   "cell_type": "code",
   "execution_count": 16,
   "id": "93e2f1ee",
   "metadata": {},
   "outputs": [
    {
     "data": {
      "text/plain": [
       "False"
      ]
     },
     "execution_count": 16,
     "metadata": {},
     "output_type": "execute_result"
    }
   ],
   "source": [
    "a.shape == b.shape"
   ]
  },
  {
   "cell_type": "markdown",
   "id": "a6d4893d",
   "metadata": {},
   "source": [
    "#### Are you able to add *a* and *b*? Why or why not?"
   ]
  },
  {
   "cell_type": "code",
   "execution_count": 17,
   "id": "9b128b72",
   "metadata": {},
   "outputs": [],
   "source": [
    "# your answer here"
   ]
  },
  {
   "cell_type": "markdown",
   "id": "e228ab32",
   "metadata": {},
   "source": [
    "No - they are not the same shape.... See https://www.educative.io/answers/how-to-add-one-array-to-another-array-in-python"
   ]
  },
  {
   "cell_type": "markdown",
   "id": "bdbcd3b5",
   "metadata": {},
   "source": [
    "#### Transpose *`b`* so that it has the same structure of *`a`* (i.e. become a 2x3x5 array). Assign the transposed array to variable *c*.\n",
    "\n",
    "*Hint*: search for `np.transpose`"
   ]
  },
  {
   "cell_type": "code",
   "execution_count": 18,
   "id": "ccd5f9ae",
   "metadata": {},
   "outputs": [],
   "source": [
    "# your code here"
   ]
  },
  {
   "cell_type": "code",
   "execution_count": 19,
   "id": "20ca6069",
   "metadata": {},
   "outputs": [
    {
     "name": "stdout",
     "output_type": "stream",
     "text": [
      "The shape of a is (2, 3, 5)\n",
      "The shape of b is (5, 2, 3)\n",
      "b has been transposed to the shape {np.transpose(b, (1,2,0)).shape} and will be saved as c\n"
     ]
    },
    {
     "data": {
      "text/plain": [
       "True"
      ]
     },
     "execution_count": 19,
     "metadata": {},
     "output_type": "execute_result"
    }
   ],
   "source": [
    "print(f'The shape of a is {a.shape}')\n",
    "print(f'The shape of b is {b.shape}')\n",
    "print(f'b has been transposed to the shape ' + \\\n",
    "      '{np.transpose(b, (1,2,0)).shape} and will be saved as c')\n",
    "c = np.transpose(b, (1,2,0))\n",
    "a.shape == c.shape"
   ]
  },
  {
   "cell_type": "markdown",
   "id": "9883863d",
   "metadata": {},
   "source": [
    "#### Try to add *`a`* and *`c`*. Now it should work. Assign the sum to variable *d*. But why does it work now?"
   ]
  },
  {
   "cell_type": "code",
   "execution_count": 20,
   "id": "d4a68fa5",
   "metadata": {},
   "outputs": [],
   "source": [
    "# your answer and code here"
   ]
  },
  {
   "cell_type": "code",
   "execution_count": 21,
   "id": "aef733b5",
   "metadata": {},
   "outputs": [],
   "source": [
    "d = np.add(a, c)"
   ]
  },
  {
   "cell_type": "markdown",
   "id": "a613625e",
   "metadata": {},
   "source": [
    "#### Print *`a`* and *`d`*. Notice the difference and relation of the two array in terms of the values? Explain."
   ]
  },
  {
   "cell_type": "code",
   "execution_count": 22,
   "id": "9de2b758",
   "metadata": {},
   "outputs": [],
   "source": [
    "# your code here"
   ]
  },
  {
   "cell_type": "code",
   "execution_count": 23,
   "id": "b1b7ee5e",
   "metadata": {},
   "outputs": [
    {
     "name": "stdout",
     "output_type": "stream",
     "text": [
      "[[[0.57632635 0.82486763 0.4576379  0.97387715 0.72305214]\n",
      "  [0.801026   0.00284065 0.33204367 0.69263527 0.54772114]\n",
      "  [0.05548606 0.16061355 0.1662069  0.57643958 0.69845828]]\n",
      "\n",
      " [[0.07624377 0.59402418 0.65478747 0.26984149 0.78399891]\n",
      "  [0.56554958 0.74635157 0.61498672 0.44657287 0.64099695]\n",
      "  [0.423073   0.78289729 0.45566757 0.70407925 0.79209131]]]\n",
      "\n",
      "\n",
      "------x------\n",
      "\n",
      "\n",
      "[[[1.57632635 1.82486763 1.4576379  1.97387715 1.72305214]\n",
      "  [1.801026   1.00284065 1.33204367 1.69263527 1.54772114]\n",
      "  [1.05548606 1.16061355 1.1662069  1.57643958 1.69845828]]\n",
      "\n",
      " [[1.07624377 1.59402418 1.65478747 1.26984149 1.78399891]\n",
      "  [1.56554958 1.74635157 1.61498672 1.44657287 1.64099695]\n",
      "  [1.423073   1.78289729 1.45566757 1.70407925 1.79209131]]]\n"
     ]
    }
   ],
   "source": [
    "print(a)\n",
    "print('\\n\\n------x------\\n\\n')\n",
    "print(d)"
   ]
  },
  {
   "cell_type": "markdown",
   "id": "b8aef037",
   "metadata": {},
   "source": [
    "#### Multiply *`a`* and *`c`*. Assign the result to *`e`*."
   ]
  },
  {
   "cell_type": "code",
   "execution_count": 24,
   "id": "9050b172",
   "metadata": {},
   "outputs": [],
   "source": [
    "# your code here"
   ]
  },
  {
   "cell_type": "code",
   "execution_count": 25,
   "id": "4a278e9e",
   "metadata": {},
   "outputs": [],
   "source": [
    "e = np.multiply(a, c)"
   ]
  },
  {
   "cell_type": "markdown",
   "id": "d2dc3112",
   "metadata": {},
   "source": [
    "#### Does *`e`* equal to *`a` *? Why or why not?"
   ]
  },
  {
   "cell_type": "code",
   "execution_count": 26,
   "id": "b48a273e",
   "metadata": {},
   "outputs": [],
   "source": [
    "# your code answer here"
   ]
  },
  {
   "cell_type": "code",
   "execution_count": 27,
   "id": "69635e14",
   "metadata": {},
   "outputs": [
    {
     "data": {
      "text/plain": [
       "array([[[ True,  True,  True,  True,  True],\n",
       "        [ True,  True,  True,  True,  True],\n",
       "        [ True,  True,  True,  True,  True]],\n",
       "\n",
       "       [[ True,  True,  True,  True,  True],\n",
       "        [ True,  True,  True,  True,  True],\n",
       "        [ True,  True,  True,  True,  True]]])"
      ]
     },
     "execution_count": 27,
     "metadata": {},
     "output_type": "execute_result"
    }
   ],
   "source": [
    "a == e"
   ]
  },
  {
   "cell_type": "code",
   "execution_count": 28,
   "id": "699b9ac0",
   "metadata": {},
   "outputs": [
    {
     "data": {
      "text/plain": [
       "True"
      ]
     },
     "execution_count": 28,
     "metadata": {},
     "output_type": "execute_result"
    }
   ],
   "source": [
    "a.shape == e.shape"
   ]
  },
  {
   "cell_type": "code",
   "execution_count": 29,
   "id": "b673a341",
   "metadata": {},
   "outputs": [
    {
     "ename": "SyntaxError",
     "evalue": "invalid syntax (1608004480.py, line 1)",
     "output_type": "error",
     "traceback": [
      "\u001b[0;36m  Input \u001b[0;32mIn [29]\u001b[0;36m\u001b[0m\n\u001b[0;31m    Multiplying anything by 1 won't change its value - therefore `a` * 1 = `a`, which is equal to `e`\u001b[0m\n\u001b[0m                ^\u001b[0m\n\u001b[0;31mSyntaxError\u001b[0m\u001b[0;31m:\u001b[0m invalid syntax\n"
     ]
    }
   ],
   "source": [
    "Multiplying anything by 1 won't change its value - therefore `a` * 1 = `a`, which is equal to `e`"
   ]
  },
  {
   "cell_type": "markdown",
   "id": "09e23136",
   "metadata": {},
   "source": [
    "#### Identify the max, min, and mean values in *d`*. Assign those values to variables *d_max*, *d_min* and *d_mean*."
   ]
  },
  {
   "cell_type": "code",
   "execution_count": 30,
   "id": "caf6317f",
   "metadata": {},
   "outputs": [],
   "source": [
    "# your code here"
   ]
  },
  {
   "cell_type": "code",
   "execution_count": 31,
   "id": "cd26a998",
   "metadata": {},
   "outputs": [],
   "source": [
    "d_max = d.max()\n",
    "d_min = d.min()\n",
    "d_mean = d.mean()"
   ]
  },
  {
   "cell_type": "code",
   "execution_count": 32,
   "id": "c91067ca",
   "metadata": {},
   "outputs": [
    {
     "name": "stdout",
     "output_type": "stream",
     "text": [
      "Min of d is 1.002840653433998\n",
      "Max of d is 1.9738771500748755\n",
      "Mean of d is 1.5380131398286319\n"
     ]
    }
   ],
   "source": [
    "print(f'Min of d is {d_min}')\n",
    "print(f'Max of d is {d_max}')\n",
    "print(f'Mean of d is {d_mean}')"
   ]
  },
  {
   "cell_type": "markdown",
   "id": "9c79c2f5",
   "metadata": {},
   "source": [
    "#### Now we want to label the values in *d*. \n",
    "*First create an empty array `f`* with the same shape (i.e. 2x3x5) as *d* using `np.zeros`.\n",
    "\n"
   ]
  },
  {
   "cell_type": "code",
   "execution_count": 33,
   "id": "6f8190df",
   "metadata": {},
   "outputs": [],
   "source": [
    "# your code here"
   ]
  },
  {
   "cell_type": "code",
   "execution_count": 34,
   "id": "b616e434",
   "metadata": {},
   "outputs": [],
   "source": [
    "f = np.zeros((2,3,5))"
   ]
  },
  {
   "cell_type": "markdown",
   "id": "9f05c096",
   "metadata": {},
   "source": [
    "Next, for each value in *`d`*, if it's larger than *`d_min`* but smaller than *`d_mean`*, assign 25 to the corresponding value in *`f`*. If a value in *`d`* is larger than *`d_mean`* but smaller than *`d_max`*, assign 75 to the corresponding value in *`f`*. If a value equals to *`d_mean`*, assign 50 to the corresponding value in *`f`*. Assign 0 to the corresponding value(s) in *`f`* for *`d_min`* in *`d`*. Assign 100 to the corresponding value(s) in *`f`* for *`d_max`* in *`d`*. In the end, `f` should have only the following values: 0, 25, 50, 75, and 100.\n",
    "\n",
    "**Note**: you don't have to use Numpy in this question."
   ]
  },
  {
   "cell_type": "code",
   "execution_count": 35,
   "id": "05f1af45",
   "metadata": {},
   "outputs": [],
   "source": [
    "# your code here"
   ]
  },
  {
   "cell_type": "code",
   "execution_count": 36,
   "id": "7ed5c678",
   "metadata": {},
   "outputs": [
    {
     "name": "stdout",
     "output_type": "stream",
     "text": [
      "[[[ 75  75  25 100  75]\n",
      "  [ 75   0  25  75  75]\n",
      "  [ 25  25  25  75  75]]\n",
      "\n",
      " [[ 25  75  75  25  75]\n",
      "  [ 75  75  75  25  75]\n",
      "  [ 25  75  25  75  75]]]\n"
     ]
    }
   ],
   "source": [
    "f_stg = []\n",
    "\n",
    "for element in d.flatten():\n",
    "        if element == d_min:\n",
    "            f_stg.append(0)\n",
    "        if element > d_min and element < d_mean:\n",
    "            f_stg.append(25)\n",
    "        if element == d_mean:\n",
    "            f_stg.append(50)\n",
    "        if element > d_mean and element < d_max:\n",
    "            f_stg.append(75)\n",
    "        if element == d_max:\n",
    "            f_stg.append(100)\n",
    "            \n",
    "f = np.array(f_stg).reshape(f.shape)\n",
    "print(f)"
   ]
  },
  {
   "cell_type": "markdown",
   "id": "4a273350",
   "metadata": {},
   "source": [
    "The end."
   ]
  }
 ],
 "metadata": {
  "kernelspec": {
   "display_name": "Python 3 (ipykernel)",
   "language": "python",
   "name": "python3"
  },
  "language_info": {
   "codemirror_mode": {
    "name": "ipython",
    "version": 3
   },
   "file_extension": ".py",
   "mimetype": "text/x-python",
   "name": "python",
   "nbconvert_exporter": "python",
   "pygments_lexer": "ipython3",
   "version": "3.9.12"
  }
 },
 "nbformat": 4,
 "nbformat_minor": 5
}
