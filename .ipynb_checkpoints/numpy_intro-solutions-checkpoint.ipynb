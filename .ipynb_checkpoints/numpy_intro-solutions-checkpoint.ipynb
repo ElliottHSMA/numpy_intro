{
 "cells": [
  {
   "cell_type": "markdown",
   "id": "6b87399f",
   "metadata": {},
   "source": [
    "# Intro to Numpy\n",
    "\n",
    "Try attempting the exercises below to help you build your confidence when working with Numpy Arrays.\n",
    "\n",
    "We may not have covered everything below, so you will have to use your preferred search engine to find the solution(s)!\n",
    "\n",
    "Here's a list of references that might help you with the exercises below:\n",
    "\n",
    "* [Numpy User Guide](https://docs.scipy.org/doc/numpy/user/index.html)\n",
    "* [Numpy Reference](https://docs.scipy.org/doc/numpy/reference/)\n",
    "* [Google Search](https://www.google.com/search?q=how+to+use+numpy)"
   ]
  },
  {
   "cell_type": "markdown",
   "id": "b8197727",
   "metadata": {},
   "source": [
    "#### First things first... Import Numpy. Given it the alias `np`."
   ]
  },
  {
   "cell_type": "code",
   "execution_count": null,
   "id": "09e6124e",
   "metadata": {},
   "outputs": [],
   "source": [
    "# your code here"
   ]
  },
  {
   "cell_type": "code",
   "execution_count": null,
   "id": "1045f4be",
   "metadata": {},
   "outputs": [],
   "source": [
    "import numpy as np"
   ]
  },
  {
   "cell_type": "markdown",
   "id": "d26e4901",
   "metadata": {},
   "source": [
    "#### Print your NumPy version.\n",
    "\n",
    "*Hint:* Google is your friend. [Isn't it?](https://www.google.com/search?q=print+numpy+version&oq=print+numpy+version)"
   ]
  },
  {
   "cell_type": "code",
   "execution_count": null,
   "id": "5800d1f8",
   "metadata": {},
   "outputs": [],
   "source": [
    "# your code here"
   ]
  },
  {
   "cell_type": "code",
   "execution_count": null,
   "id": "69363a99",
   "metadata": {},
   "outputs": [],
   "source": [
    "print(np.__version__)"
   ]
  },
  {
   "cell_type": "markdown",
   "id": "adb710e2",
   "metadata": {},
   "source": [
    "#### Generate a 2x3x5 3-dimensional array with random values. Assign the array to variable *`a`*.\n",
    "**Challenge**: there are at least three easy ways that use numpy to generate random arrays. How many ways can you find?\n",
    "**Hint**: look for `np.random` and search for functions you want to use.\n",
    "\n",
    "The outcomes should look like:\n",
    "```python\n",
    "array([[[ 0.00453782,  0.47251152,  0.65513617,  0.89370211,  0.91464052],\n",
    "        [ 0.35606786,  0.68149792,  0.37211451,  0.2493357 ,  0.66608051],\n",
    "        [ 0.71459267,  0.68722356,  0.20916865,  0.98338451,  0.28154909]],\n",
    "\n",
    "       [[ 0.83752622,  0.12378486,  0.77380373,  0.43270332,  0.26392168],\n",
    "        [ 0.02528723,  0.5352501 ,  0.35521185,  0.05175587,  0.64898055],\n",
    "        [ 0.52616383,  0.94453068,  0.17055731,  0.15094225,  0.63495276]]])\n",
    "```\n",
    "*The values do not need to be the same. Remember that you are creating random numbers.*"
   ]
  },
  {
   "cell_type": "code",
   "execution_count": null,
   "id": "0cfecc59",
   "metadata": {},
   "outputs": [],
   "source": [
    "# your code here"
   ]
  },
  {
   "cell_type": "code",
   "execution_count": null,
   "id": "9c653d3f",
   "metadata": {},
   "outputs": [],
   "source": [
    "a = np.random.rand(2,3,5)"
   ]
  },
  {
   "cell_type": "markdown",
   "id": "ab0f8967",
   "metadata": {},
   "source": [
    "#### Print `a`."
   ]
  },
  {
   "cell_type": "code",
   "execution_count": null,
   "id": "cc3d994f",
   "metadata": {},
   "outputs": [],
   "source": [
    "# your code here"
   ]
  },
  {
   "cell_type": "code",
   "execution_count": null,
   "id": "c60cfe4c",
   "metadata": {},
   "outputs": [],
   "source": [
    "print(a)"
   ]
  },
  {
   "cell_type": "markdown",
   "id": "202b77e3",
   "metadata": {},
   "source": [
    "#### Create a 5x2x3 3-dimensional array of 1s (i.e., all elements are 1). Assign the array to variable *`b`*.\n",
    "\n",
    "The outcome should look like:\n",
    "```python\n",
    "[[[ 1.  1.  1.]\n",
    "  [ 1.  1.  1.]]\n",
    "\n",
    " [[ 1.  1.  1.]\n",
    "  [ 1.  1.  1.]]\n",
    "\n",
    " [[ 1.  1.  1.]\n",
    "  [ 1.  1.  1.]]\n",
    "\n",
    " [[ 1.  1.  1.]\n",
    "  [ 1.  1.  1.]]\n",
    "\n",
    " [[ 1.  1.  1.]\n",
    "  [ 1.  1.  1.]]]\n",
    "```"
   ]
  },
  {
   "cell_type": "code",
   "execution_count": null,
   "id": "cb0a4d64",
   "metadata": {},
   "outputs": [],
   "source": [
    "# your code here"
   ]
  },
  {
   "cell_type": "code",
   "execution_count": null,
   "id": "5ff270bd",
   "metadata": {},
   "outputs": [],
   "source": [
    "b = np.array( [ [ [1] * 3 ] * 2 ] * 5)"
   ]
  },
  {
   "cell_type": "markdown",
   "id": "263bb629",
   "metadata": {},
   "source": [
    "#### Print `b`."
   ]
  },
  {
   "cell_type": "code",
   "execution_count": null,
   "id": "8bd32d49",
   "metadata": {},
   "outputs": [],
   "source": [
    "# your code here"
   ]
  },
  {
   "cell_type": "code",
   "execution_count": null,
   "id": "5074395a",
   "metadata": {},
   "outputs": [],
   "source": [
    "print(b)"
   ]
  },
  {
   "cell_type": "markdown",
   "id": "347eafdc",
   "metadata": {},
   "source": [
    "#### Do *`a`* and *`b`* have the same size? How do you prove that in Python code?"
   ]
  },
  {
   "cell_type": "code",
   "execution_count": null,
   "id": "0f8f2837",
   "metadata": {},
   "outputs": [],
   "source": [
    "# your answer and code here"
   ]
  },
  {
   "cell_type": "code",
   "execution_count": null,
   "id": "f2c6a741",
   "metadata": {},
   "outputs": [],
   "source": [
    "a.shape"
   ]
  },
  {
   "cell_type": "code",
   "execution_count": null,
   "id": "6b54e90b",
   "metadata": {},
   "outputs": [],
   "source": [
    "b.shape"
   ]
  },
  {
   "cell_type": "code",
   "execution_count": null,
   "id": "031de53a",
   "metadata": {},
   "outputs": [],
   "source": [
    "a.shape == b.shape"
   ]
  },
  {
   "cell_type": "markdown",
   "id": "42995384",
   "metadata": {},
   "source": [
    "#### Are you able to add *a* and *b*? Why or why not?"
   ]
  },
  {
   "cell_type": "code",
   "execution_count": null,
   "id": "ada995d5",
   "metadata": {},
   "outputs": [],
   "source": [
    "# your answer here"
   ]
  },
  {
   "cell_type": "markdown",
   "id": "c56f6a26",
   "metadata": {},
   "source": [
    "No - they are not the same shape.... See https://www.educative.io/answers/how-to-add-one-array-to-another-array-in-python"
   ]
  },
  {
   "cell_type": "markdown",
   "id": "93bb3199",
   "metadata": {},
   "source": [
    "#### Transpose *`b`* so that it has the same structure of *`a`* (i.e. become a 2x3x5 array). Assign the transposed array to variable *c*.\n",
    "\n",
    "*Hint*: search for `np.transpose`"
   ]
  },
  {
   "cell_type": "code",
   "execution_count": null,
   "id": "0af12097",
   "metadata": {},
   "outputs": [],
   "source": [
    "# your code here"
   ]
  },
  {
   "cell_type": "code",
   "execution_count": null,
   "id": "6717066b",
   "metadata": {},
   "outputs": [],
   "source": [
    "print(f'The shape of a is {a.shape}')\n",
    "print(f'The shape of b is {b.shape}')\n",
    "print(f'b has been transposed to the shape ' + \\\n",
    "      '{np.transpose(b, (1,2,0)).shape} and will be saved as c')\n",
    "c = np.transpose(b, (1,2,0))\n",
    "a.shape == c.shape"
   ]
  },
  {
   "cell_type": "markdown",
   "id": "8e55e9ad",
   "metadata": {},
   "source": [
    "#### Try to add *`a`* and *`c`*. Now it should work. Assign the sum to variable *d*. But why does it work now?"
   ]
  },
  {
   "cell_type": "code",
   "execution_count": null,
   "id": "9a647fc2",
   "metadata": {},
   "outputs": [],
   "source": [
    "# your answer and code here"
   ]
  },
  {
   "cell_type": "code",
   "execution_count": null,
   "id": "145f8d86",
   "metadata": {},
   "outputs": [],
   "source": [
    "d = np.add(a, c)"
   ]
  },
  {
   "cell_type": "markdown",
   "id": "cd935ba6",
   "metadata": {},
   "source": [
    "#### Print *`a`* and *`d`*. Notice the difference and relation of the two array in terms of the values? Explain."
   ]
  },
  {
   "cell_type": "code",
   "execution_count": null,
   "id": "97fa5f67",
   "metadata": {},
   "outputs": [],
   "source": [
    "# your code here"
   ]
  },
  {
   "cell_type": "code",
   "execution_count": null,
   "id": "39104d0a",
   "metadata": {},
   "outputs": [],
   "source": [
    "print(a)\n",
    "print('\\n\\n------x------\\n\\n')\n",
    "print(d)"
   ]
  },
  {
   "cell_type": "markdown",
   "id": "40238912",
   "metadata": {},
   "source": [
    "#### Multiply *`a`* and *`c`*. Assign the result to *`e`*."
   ]
  },
  {
   "cell_type": "code",
   "execution_count": null,
   "id": "50c0001c",
   "metadata": {},
   "outputs": [],
   "source": [
    "# your code here"
   ]
  },
  {
   "cell_type": "code",
   "execution_count": null,
   "id": "bc17d3c7",
   "metadata": {},
   "outputs": [],
   "source": [
    "e = np.multiply(a, c)"
   ]
  },
  {
   "cell_type": "markdown",
   "id": "2809ac64",
   "metadata": {},
   "source": [
    "#### Does *`e`* equal to *`a` *? Why or why not?"
   ]
  },
  {
   "cell_type": "code",
   "execution_count": null,
   "id": "7f171ab1",
   "metadata": {},
   "outputs": [],
   "source": [
    "# your code answer here"
   ]
  },
  {
   "cell_type": "code",
   "execution_count": null,
   "id": "a7abfa12",
   "metadata": {},
   "outputs": [],
   "source": [
    "a == e"
   ]
  },
  {
   "cell_type": "code",
   "execution_count": null,
   "id": "2c016a89",
   "metadata": {},
   "outputs": [],
   "source": [
    "a.shape == e.shape"
   ]
  },
  {
   "cell_type": "code",
   "execution_count": null,
   "id": "f6bb3849",
   "metadata": {},
   "outputs": [],
   "source": [
    "Multiplying anything by 1 won't change its value - therefore `a` * 1 = `a`, which is equal to `e`"
   ]
  },
  {
   "cell_type": "markdown",
   "id": "253ab0cb",
   "metadata": {},
   "source": [
    "#### Identify the max, min, and mean values in *d`*. Assign those values to variables *d_max*, *d_min* and *d_mean*."
   ]
  },
  {
   "cell_type": "code",
   "execution_count": null,
   "id": "6e642514",
   "metadata": {},
   "outputs": [],
   "source": [
    "# your code here"
   ]
  },
  {
   "cell_type": "code",
   "execution_count": null,
   "id": "61bcd69e",
   "metadata": {},
   "outputs": [],
   "source": [
    "d_max = d.max()\n",
    "d_min = d.min()\n",
    "d_mean = d.mean()"
   ]
  },
  {
   "cell_type": "code",
   "execution_count": null,
   "id": "3c0ec580",
   "metadata": {},
   "outputs": [],
   "source": [
    "print(f'Min of d is {d_min}')\n",
    "print(f'Max of d is {d_max}')\n",
    "print(f'Mean of d is {d_mean}')"
   ]
  },
  {
   "cell_type": "markdown",
   "id": "b2c164b7",
   "metadata": {},
   "source": [
    "#### Now we want to label the values in *d*. \n",
    "*First create an empty array `f`* with the same shape (i.e. 2x3x5) as *d* using `np.zeros`.\n",
    "\n"
   ]
  },
  {
   "cell_type": "code",
   "execution_count": null,
   "id": "290e6232",
   "metadata": {},
   "outputs": [],
   "source": [
    "# your code here"
   ]
  },
  {
   "cell_type": "code",
   "execution_count": null,
   "id": "52060b1f",
   "metadata": {},
   "outputs": [],
   "source": [
    "f = np.zeros((2,3,5))"
   ]
  },
  {
   "cell_type": "markdown",
   "id": "b3b0c9ab",
   "metadata": {},
   "source": [
    "Next, for each value in *`d`*, if it's larger than *`d_min`* but smaller than *`d_mean`*, assign 25 to the corresponding value in *`f`*. If a value in *`d`* is larger than *`d_mean`* but smaller than *`d_max`*, assign 75 to the corresponding value in *`f`*. If a value equals to *`d_mean`*, assign 50 to the corresponding value in *`f`*. Assign 0 to the corresponding value(s) in *`f`* for *`d_min`* in *`d`*. Assign 100 to the corresponding value(s) in *`f`* for *`d_max`* in *`d`*. In the end, `f` should have only the following values: 0, 25, 50, 75, and 100.\n",
    "\n",
    "**Note**: you don't have to use Numpy in this question."
   ]
  },
  {
   "cell_type": "code",
   "execution_count": null,
   "id": "2caac454",
   "metadata": {},
   "outputs": [],
   "source": [
    "# your code here"
   ]
  },
  {
   "cell_type": "code",
   "execution_count": null,
   "id": "552cafe9",
   "metadata": {},
   "outputs": [],
   "source": [
    "f_stg = []\n",
    "\n",
    "for element in d.flatten():\n",
    "        if element == d_min:\n",
    "            f_stg.append(0)\n",
    "        if element > d_min and element < d_mean:\n",
    "            f_stg.append(25)\n",
    "        if element == d_mean:\n",
    "            f_stg.append(50)\n",
    "        if element > d_mean and element < d_max:\n",
    "            f_stg.append(75)\n",
    "        if element == d_max:\n",
    "            f_stg.append(100)\n",
    "            \n",
    "f = np.array(f_stg).reshape(f.shape)\n",
    "print(f)"
   ]
  },
  {
   "cell_type": "markdown",
   "id": "5c55989f",
   "metadata": {},
   "source": [
    "The end."
   ]
  }
 ],
 "metadata": {
  "kernelspec": {
   "display_name": "Python 3 (ipykernel)",
   "language": "python",
   "name": "python3"
  },
  "language_info": {
   "codemirror_mode": {
    "name": "ipython",
    "version": 3
   },
   "file_extension": ".py",
   "mimetype": "text/x-python",
   "name": "python",
   "nbconvert_exporter": "python",
   "pygments_lexer": "ipython3",
   "version": "3.9.12"
  }
 },
 "nbformat": 4,
 "nbformat_minor": 5
}
