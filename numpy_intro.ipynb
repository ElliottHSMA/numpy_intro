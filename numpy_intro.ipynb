{
 "cells": [
  {
   "cell_type": "markdown",
   "id": "f9d00824",
   "metadata": {},
   "source": [
    "# Intro to Numpy\n",
    "\n",
    "Try attempting the exercises below to help you build your confidence when working with Numpy Arrays.\n",
    "\n",
    "We may not have covered everything below, so you will have to use your preferred search engine to find the solution(s)!\n",
    "\n",
    "Here's a list of references that might help you with the exercises below:\n",
    "\n",
    "* [Numpy User Guide](https://docs.scipy.org/doc/numpy/user/index.html)\n",
    "* [Numpy Reference](https://docs.scipy.org/doc/numpy/reference/)\n",
    "* [Google Search](https://www.google.com/search?q=how+to+use+numpy)"
   ]
  },
  {
   "cell_type": "markdown",
   "id": "a5b7a0e4",
   "metadata": {},
   "source": [
    "#### First things first... Import Numpy. Given it the alias `np`."
   ]
  },
  {
   "cell_type": "code",
   "execution_count": null,
   "id": "b8346667",
   "metadata": {},
   "outputs": [],
   "source": [
    "# your code here"
   ]
  },
  {
   "cell_type": "markdown",
   "id": "69b97867",
   "metadata": {},
   "source": [
    "#### Print your NumPy version.\n",
    "\n",
    "*Hint:* Google is your friend. [Isn't it?](https://www.google.com/search?q=print+numpy+version&oq=print+numpy+version)"
   ]
  },
  {
   "cell_type": "code",
   "execution_count": null,
   "id": "1728ced0",
   "metadata": {},
   "outputs": [],
   "source": [
    "# your code here"
   ]
  },
  {
   "cell_type": "markdown",
   "id": "b827056c",
   "metadata": {},
   "source": [
    "#### Generate a 2x3x5 3-dimensional array with random values. Assign the array to variable *`a`*.\n",
    "**Challenge**: there are at least three easy ways that use numpy to generate random arrays. How many ways can you find?\n",
    "**Hint**: look for `np.random` and search for functions you want to use.\n",
    "\n",
    "The outcomes should look like:\n",
    "```python\n",
    "array([[[ 0.00453782,  0.47251152,  0.65513617,  0.89370211,  0.91464052],\n",
    "        [ 0.35606786,  0.68149792,  0.37211451,  0.2493357 ,  0.66608051],\n",
    "        [ 0.71459267,  0.68722356,  0.20916865,  0.98338451,  0.28154909]],\n",
    "\n",
    "       [[ 0.83752622,  0.12378486,  0.77380373,  0.43270332,  0.26392168],\n",
    "        [ 0.02528723,  0.5352501 ,  0.35521185,  0.05175587,  0.64898055],\n",
    "        [ 0.52616383,  0.94453068,  0.17055731,  0.15094225,  0.63495276]]])\n",
    "```\n",
    "*The values do not need to be the same. Remember that you are creating random numbers.*"
   ]
  },
  {
   "cell_type": "code",
   "execution_count": null,
   "id": "5d7287de",
   "metadata": {},
   "outputs": [],
   "source": [
    "# your code here"
   ]
  },
  {
   "cell_type": "markdown",
   "id": "3277a353",
   "metadata": {},
   "source": [
    "#### Print `a`."
   ]
  },
  {
   "cell_type": "code",
   "execution_count": null,
   "id": "c184cc4e",
   "metadata": {},
   "outputs": [],
   "source": [
    "# your code here"
   ]
  },
  {
   "cell_type": "markdown",
   "id": "6595eb52",
   "metadata": {},
   "source": [
    "#### Create a 5x2x3 3-dimensional array of 1s (i.e., all elements are 1). Assign the array to variable *`b`*.\n",
    "\n",
    "The outcome should look like:\n",
    "```python\n",
    "[[[ 1.  1.  1.]\n",
    "  [ 1.  1.  1.]]\n",
    "\n",
    " [[ 1.  1.  1.]\n",
    "  [ 1.  1.  1.]]\n",
    "\n",
    " [[ 1.  1.  1.]\n",
    "  [ 1.  1.  1.]]\n",
    "\n",
    " [[ 1.  1.  1.]\n",
    "  [ 1.  1.  1.]]\n",
    "\n",
    " [[ 1.  1.  1.]\n",
    "  [ 1.  1.  1.]]]\n",
    "```"
   ]
  },
  {
   "cell_type": "code",
   "execution_count": null,
   "id": "c36cc422",
   "metadata": {},
   "outputs": [],
   "source": [
    "# your code here"
   ]
  },
  {
   "cell_type": "markdown",
   "id": "45ba58ac",
   "metadata": {},
   "source": [
    "#### Print `b`."
   ]
  },
  {
   "cell_type": "code",
   "execution_count": null,
   "id": "1efd58b8",
   "metadata": {},
   "outputs": [],
   "source": [
    "# your code here"
   ]
  },
  {
   "cell_type": "markdown",
   "id": "c4c9b04e",
   "metadata": {},
   "source": [
    "#### Do *`a`* and *`b`* have the same size? How do you prove that in Python code?"
   ]
  },
  {
   "cell_type": "code",
   "execution_count": null,
   "id": "6a0e1196",
   "metadata": {},
   "outputs": [],
   "source": [
    "# your answer and code here"
   ]
  },
  {
   "cell_type": "markdown",
   "id": "a6d4893d",
   "metadata": {},
   "source": [
    "#### Are you able to add *a* and *b*? Why or why not?"
   ]
  },
  {
   "cell_type": "code",
   "execution_count": null,
   "id": "9b128b72",
   "metadata": {},
   "outputs": [],
   "source": [
    "# your answer here"
   ]
  },
  {
   "cell_type": "markdown",
   "id": "e228ab32",
   "metadata": {},
   "source": [
    "No - they are not the same shape.... See https://www.educative.io/answers/how-to-add-one-array-to-another-array-in-python"
   ]
  },
  {
   "cell_type": "markdown",
   "id": "bdbcd3b5",
   "metadata": {},
   "source": [
    "#### Transpose *`b`* so that it has the same structure of *`a`* (i.e. become a 2x3x5 array). Assign the transposed array to variable *c*.\n",
    "\n",
    "*Hint*: search for `np.transpose`"
   ]
  },
  {
   "cell_type": "code",
   "execution_count": null,
   "id": "ccd5f9ae",
   "metadata": {},
   "outputs": [],
   "source": [
    "# your code here"
   ]
  },
  {
   "cell_type": "markdown",
   "id": "9883863d",
   "metadata": {},
   "source": [
    "#### Try to add *`a`* and *`c`*. Now it should work. Assign the sum to variable *d*. But why does it work now?"
   ]
  },
  {
   "cell_type": "code",
   "execution_count": null,
   "id": "d4a68fa5",
   "metadata": {},
   "outputs": [],
   "source": [
    "# your answer and code here"
   ]
  },
  {
   "cell_type": "markdown",
   "id": "a613625e",
   "metadata": {},
   "source": [
    "#### Print *`a`* and *`d`*. Notice the difference and relation of the two array in terms of the values? Explain."
   ]
  },
  {
   "cell_type": "code",
   "execution_count": null,
   "id": "9de2b758",
   "metadata": {},
   "outputs": [],
   "source": [
    "# your code here"
   ]
  },
  {
   "cell_type": "markdown",
   "id": "b8aef037",
   "metadata": {},
   "source": [
    "#### Multiply *`a`* and *`c`*. Assign the result to *`e`*."
   ]
  },
  {
   "cell_type": "code",
   "execution_count": null,
   "id": "9050b172",
   "metadata": {},
   "outputs": [],
   "source": [
    "# your code here"
   ]
  },
  {
   "cell_type": "markdown",
   "id": "d2dc3112",
   "metadata": {},
   "source": [
    "#### Does *`e`* equal to *`a` *? Why or why not?"
   ]
  },
  {
   "cell_type": "code",
   "execution_count": null,
   "id": "b48a273e",
   "metadata": {},
   "outputs": [],
   "source": [
    "# your code answer here"
   ]
  },
  {
   "cell_type": "markdown",
   "id": "09e23136",
   "metadata": {},
   "source": [
    "#### Identify the max, min, and mean values in *d`*. Assign those values to variables *d_max*, *d_min* and *d_mean*."
   ]
  },
  {
   "cell_type": "code",
   "execution_count": null,
   "id": "caf6317f",
   "metadata": {},
   "outputs": [],
   "source": [
    "# your code here"
   ]
  },
  {
   "cell_type": "markdown",
   "id": "9c79c2f5",
   "metadata": {},
   "source": [
    "#### Now we want to label the values in *d*. \n",
    "*First create an empty array `f`* with the same shape (i.e. 2x3x5) as *d* using `np.zeros`.\n",
    "\n"
   ]
  },
  {
   "cell_type": "code",
   "execution_count": null,
   "id": "6f8190df",
   "metadata": {},
   "outputs": [],
   "source": [
    "# your code here"
   ]
  },
  {
   "cell_type": "markdown",
   "id": "9f05c096",
   "metadata": {},
   "source": [
    "Next, for each value in *`d`*, if it's larger than *`d_min`* but smaller than *`d_mean`*, assign 25 to the corresponding value in *`f`*. If a value in *`d`* is larger than *`d_mean`* but smaller than *`d_max`*, assign 75 to the corresponding value in *`f`*. If a value equals to *`d_mean`*, assign 50 to the corresponding value in *`f`*. Assign 0 to the corresponding value(s) in *`f`* for *`d_min`* in *`d`*. Assign 100 to the corresponding value(s) in *`f`* for *`d_max`* in *`d`*. In the end, `f` should have only the following values: 0, 25, 50, 75, and 100.\n",
    "\n",
    "**Note**: you don't have to use Numpy in this question."
   ]
  },
  {
   "cell_type": "code",
   "execution_count": null,
   "id": "05f1af45",
   "metadata": {},
   "outputs": [],
   "source": [
    "# your code here"
   ]
  },
  {
   "cell_type": "markdown",
   "id": "4a273350",
   "metadata": {},
   "source": [
    "The end."
   ]
  }
 ],
 "metadata": {
  "kernelspec": {
   "display_name": "Python 3 (ipykernel)",
   "language": "python",
   "name": "python3"
  },
  "language_info": {
   "codemirror_mode": {
    "name": "ipython",
    "version": 3
   },
   "file_extension": ".py",
   "mimetype": "text/x-python",
   "name": "python",
   "nbconvert_exporter": "python",
   "pygments_lexer": "ipython3",
   "version": "3.9.12"
  }
 },
 "nbformat": 4,
 "nbformat_minor": 5
}
