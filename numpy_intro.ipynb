{
 "cells": [
  {
   "cell_type": "markdown",
   "id": "c50c10b0",
   "metadata": {},
   "source": [
    "# Intro to Numpy\n",
    "\n",
    "Try attempting the exercises below to help you build your confidence when working with Numpy Arrays.\n",
    "\n",
    "We may not have covered everything below, so you will have to use your preferred search engine to find the solution(s)!\n",
    "\n",
    "Here's a list of references that might help you with the exercises below:\n",
    "\n",
    "* [Numpy User Guide](https://docs.scipy.org/doc/numpy/user/index.html)\n",
    "* [Numpy Reference](https://docs.scipy.org/doc/numpy/reference/)\n",
    "* [Google Search](https://www.google.com/search?q=how+to+use+numpy)"
   ]
  },
  {
   "cell_type": "markdown",
   "id": "a1fd945c",
   "metadata": {},
   "source": [
    "#### First things first... Import Numpy. Given it the alias `np`"
   ]
  },
  {
   "cell_type": "code",
   "execution_count": 2,
   "id": "9736d032",
   "metadata": {},
   "outputs": [],
   "source": [
    "# your code here"
   ]
  },
  {
   "cell_type": "code",
   "execution_count": 3,
   "id": "af9c184e",
   "metadata": {},
   "outputs": [],
   "source": [
    "import numpy as np"
   ]
  },
  {
   "cell_type": "markdown",
   "id": "edb324dd",
   "metadata": {},
   "source": [
    "#### Print your NumPy version.\n",
    "\n",
    "*Hint:* Google is your friend. [Isn't it?](https://www.google.com/search?q=print+numpy+version&oq=print+numpy+version)"
   ]
  },
  {
   "cell_type": "code",
   "execution_count": 8,
   "id": "b9023186",
   "metadata": {},
   "outputs": [
    {
     "name": "stdout",
     "output_type": "stream",
     "text": [
      "1.21.5\n"
     ]
    }
   ],
   "source": [
    "print(np.__version__)"
   ]
  },
  {
   "cell_type": "markdown",
   "id": "8eab8599",
   "metadata": {},
   "source": [
    "#### Generate a 2x3x5 3-dimensional array with random values. Assign the array to variable *a*.\n",
    "**Challenge**: there are at least three easy ways that use numpy to generate random arrays. How many ways can you find?\n",
    "**Hint**: look for `np.random` and search for functions you want to use.\n",
    "\n",
    "The outcomes should look like:\n",
    "```python\n",
    "array([[[ 0.00453782,  0.47251152,  0.65513617,  0.89370211,  0.91464052],\n",
    "        [ 0.35606786,  0.68149792,  0.37211451,  0.2493357 ,  0.66608051],\n",
    "        [ 0.71459267,  0.68722356,  0.20916865,  0.98338451,  0.28154909]],\n",
    "\n",
    "       [[ 0.83752622,  0.12378486,  0.77380373,  0.43270332,  0.26392168],\n",
    "        [ 0.02528723,  0.5352501 ,  0.35521185,  0.05175587,  0.64898055],\n",
    "        [ 0.52616383,  0.94453068,  0.17055731,  0.15094225,  0.63495276]]])\n",
    "```\n",
    "*The values do not need to be the same. Remember that you are creating random numbers.*"
   ]
  },
  {
   "cell_type": "code",
   "execution_count": null,
   "id": "a35e0699",
   "metadata": {},
   "outputs": [],
   "source": []
  },
  {
   "cell_type": "code",
   "execution_count": null,
   "id": "1b6ff3bc",
   "metadata": {},
   "outputs": [],
   "source": []
  },
  {
   "cell_type": "code",
   "execution_count": null,
   "id": "d421adc7",
   "metadata": {},
   "outputs": [],
   "source": []
  },
  {
   "cell_type": "code",
   "execution_count": null,
   "id": "ef745f05",
   "metadata": {},
   "outputs": [],
   "source": []
  },
  {
   "cell_type": "code",
   "execution_count": null,
   "id": "6239b0ed",
   "metadata": {},
   "outputs": [],
   "source": []
  },
  {
   "cell_type": "code",
   "execution_count": null,
   "id": "b5d5a9f9",
   "metadata": {},
   "outputs": [],
   "source": []
  },
  {
   "cell_type": "code",
   "execution_count": null,
   "id": "c29cd922",
   "metadata": {},
   "outputs": [],
   "source": []
  },
  {
   "cell_type": "code",
   "execution_count": null,
   "id": "83a0622e",
   "metadata": {},
   "outputs": [],
   "source": []
  }
 ],
 "metadata": {
  "kernelspec": {
   "display_name": "Python 3 (ipykernel)",
   "language": "python",
   "name": "python3"
  },
  "language_info": {
   "codemirror_mode": {
    "name": "ipython",
    "version": 3
   },
   "file_extension": ".py",
   "mimetype": "text/x-python",
   "name": "python",
   "nbconvert_exporter": "python",
   "pygments_lexer": "ipython3",
   "version": "3.9.12"
  }
 },
 "nbformat": 4,
 "nbformat_minor": 5
}
